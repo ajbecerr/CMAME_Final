{
 "cells": [
  {
   "cell_type": "code",
   "execution_count": 1,
   "metadata": {},
   "outputs": [],
   "source": [
    "import glob\n",
    "import h5py\n",
    "# import matplotlib.pyplot as plt\n",
    "from multiscale_new import *\n",
    "import numpy as np\n",
    "import pandas as pd\n",
    "from sklearn.metrics import mean_squared_error\n",
    "import sys"
   ]
  },
  {
   "cell_type": "code",
   "execution_count": 2,
   "metadata": {},
   "outputs": [
    {
     "name": "stdout",
     "output_type": "stream",
     "text": [
      "['PMMAboundary_GASP_location_train.csv', 'PMMAboundary_GASP_sample_train.csv']\n",
      "['PMMAboundary_GASP_location_test.csv', 'PMMAboundary_GASP_sample_test.csv']\n"
     ]
    }
   ],
   "source": [
    "train_files = glob.glob('PMMA*train.csv')\n",
    "print(train_files)\n",
    "test_files = glob.glob('PMMA*test.csv')\n",
    "print(test_files)"
   ]
  },
  {
   "cell_type": "code",
   "execution_count": 3,
   "metadata": {},
   "outputs": [],
   "source": [
    "qoi = 'rdot' # 'rdot' or 'qtot'\n",
    "j = 0 # 0, 1, 2, or 3\n",
    "k = 1 # 1, or 2\n",
    "# ss = 12"
   ]
  },
  {
   "cell_type": "code",
   "execution_count": 4,
   "metadata": {},
   "outputs": [
    {
     "name": "stdout",
     "output_type": "stream",
     "text": [
      "[[0.70590027 1.         0.98737823 ... 0.76488178 0.68129824 0.06561907]\n",
      " [0.75709935 1.         0.98737823 ... 0.76488178 0.68129824 0.06550133]\n",
      " [0.76771265 1.         0.98737823 ... 0.76488178 0.68129824 0.06420685]\n",
      " ...\n",
      " [0.22179105 0.10612479 0.98494404 ... 0.68782473 0.44799568 0.        ]\n",
      " [0.22936649 0.17687465 0.98494404 ... 0.68782473 0.44799568 0.01645269]\n",
      " [0.23694193 0.24762451 0.98494404 ... 0.68782473 0.44799568 0.04733215]]\n",
      "4784\n",
      "['Cs__0.002_rdot_sample.npy', 'Cs__0.005_qtot_location.npy', 'Cs__0.005_qtot_sample.npy', 'Cs__0.005_rdot_location.npy', 'Cs__0.005_rdot_sample.npy']\n",
      "['sparse__0.002_rdot_sample.npy', 'sparse__0.005_qtot_location.npy', 'sparse__0.005_qtot_sample.npy', 'sparse__0.005_rdot_location.npy', 'sparse__0.005_rdot_sample.npy']\n",
      "['T__0.002_rdot_sample.npy', 'T__0.005_qtot_location.npy', 'T__0.005_qtot_sample.npy', 'T__0.005_rdot_location.npy', 'T__0.005_rdot_sample.npy']\n"
     ]
    }
   ],
   "source": [
    "Data = pd.read_csv(train_files[1])\n",
    "# Data = Data.dropna()\n",
    "Data = np.array(Data.values)\n",
    "\n",
    "if qoi == 'rdot':\n",
    "    Data = np.hstack((Data[:, 3:-1], Data[:, 1].reshape(-1, 1))).astype(float)\n",
    "else:\n",
    "    Data = np.hstack((Data[:, 3:-1], Data[:, 2].reshape(-1, 1))).astype(float)\n",
    "    \n",
    "max_cols = np.diag([1/max(Data[:, i]) for i in range(len(Data[0]))])\n",
    "Data = np.matmul(Data, max_cols)\n",
    "print(Data)\n",
    "print(len(Data))\n",
    "\n",
    "Cs = glob.glob('Cs*.npy')\n",
    "print(Cs)\n",
    "sparse = glob.glob('sparse*.npy')\n",
    "print(sparse)\n",
    "T = glob.glob('T*.npy')\n",
    "print(T)"
   ]
  },
  {
   "cell_type": "code",
   "execution_count": 5,
   "metadata": {},
   "outputs": [
    {
     "data": {
      "text/plain": [
       "3.5056634245109066e-06"
      ]
     },
     "execution_count": 5,
     "metadata": {},
     "output_type": "execute_result"
    }
   ],
   "source": [
    "Cs = np.load(Cs[j])\n",
    "sparse = np.load(sparse[j])\n",
    "T = np.load(T[j])\n",
    "\n",
    "# predict(Data[:, :-1],sparse,T,Cs)\n",
    "truth = np.array(pd.read_csv(train_files[1]).values)\n",
    "# truth = truth[:, 2]/np.max(truth[:, 2])\n",
    "mean_squared_error(truth[:, k]/np.max(truth[:, k]), predict(Data[:, :-1],sparse,T,Cs))"
   ]
  },
  {
   "cell_type": "code",
   "execution_count": 6,
   "metadata": {},
   "outputs": [
    {
     "data": {
      "text/plain": [
       "0.0006650508483947287"
      ]
     },
     "execution_count": 6,
     "metadata": {},
     "output_type": "execute_result"
    }
   ],
   "source": [
    "test = np.array(pd.read_csv(test_files[1]).values)\n",
    "# test = test[:, 2]/np.max(truth[:, 2])\n",
    "mean_squared_error(test[:, k]/np.max(truth[:, k]), predict(np.matmul(test[:, 3:-1], max_cols[:-1, :-1]),sparse,T,Cs))"
   ]
  },
  {
   "cell_type": "code",
   "execution_count": 7,
   "metadata": {},
   "outputs": [
    {
     "data": {
      "text/plain": [
       "1.8011614281773743e-06"
      ]
     },
     "execution_count": 7,
     "metadata": {},
     "output_type": "execute_result"
    }
   ],
   "source": [
    "Data = np.array(pd.read_csv(train_files[1]).values)\n",
    "Data = np.array([Data[92*i+80] for i in range(52)])\n",
    "# mean_squared_error(Data[:, k]/np.max(truth[:, k]), predict(np.matmul(Data[:, 3:-1], max_cols[:-1, :-1]),sparse,T,Cs))\n",
    "errors = Data[:, k]/np.max(truth[:, k]) - predict(np.matmul(Data[:, 3:-1], max_cols[:-1, :-1]),sparse,T,Cs)\n",
    "squared_errors = [error**2 for error in errors]\n",
    "np.mean(squared_errors)"
   ]
  },
  {
   "cell_type": "code",
   "execution_count": 8,
   "metadata": {},
   "outputs": [
    {
     "data": {
      "text/plain": [
       "3.062037566655271e-05"
      ]
     },
     "execution_count": 8,
     "metadata": {},
     "output_type": "execute_result"
    }
   ],
   "source": [
    "Data = np.array(pd.read_csv(test_files[1]).values)\n",
    "Data = np.array([Data[92*i+80] for i in range(12)])\n",
    "# mean_squared_error(Data[:, k]/np.max(truth[:, k]), predict(np.matmul(Data[:, 3:-1], max_cols[:-1, :-1]),sparse,T,Cs))\n",
    "errors = Data[:, k]/np.max(truth[:, k]) - predict(np.matmul(Data[:, 3:-1], max_cols[:-1, :-1]),sparse,T,Cs)\n",
    "squared_errors = [error**2 for error in errors]\n",
    "np.mean(squared_errors)"
   ]
  },
  {
   "cell_type": "code",
   "execution_count": 9,
   "metadata": {},
   "outputs": [
    {
     "data": {
      "text/plain": [
       "1.5557902485148497e-06"
      ]
     },
     "execution_count": 9,
     "metadata": {},
     "output_type": "execute_result"
    }
   ],
   "source": [
    "Data = np.array(pd.read_csv(train_files[1]).values)\n",
    "Data = np.array([Data[92*i+90] for i in range(52)])\n",
    "# mean_squared_error(Data[:, k]/np.max(truth[:, k]), predict(np.matmul(Data[:, 3:-1], max_cols[:-1, :-1]),sparse,T,Cs))\n",
    "errors = Data[:, k]/np.max(truth[:, k]) - predict(np.matmul(Data[:, 3:-1], max_cols[:-1, :-1]),sparse,T,Cs)\n",
    "squared_errors = [error**2 for error in errors]\n",
    "np.mean(squared_errors)"
   ]
  },
  {
   "cell_type": "code",
   "execution_count": 10,
   "metadata": {},
   "outputs": [
    {
     "data": {
      "text/plain": [
       "4.842483128319038e-05"
      ]
     },
     "execution_count": 10,
     "metadata": {},
     "output_type": "execute_result"
    }
   ],
   "source": [
    "Data = np.array(pd.read_csv(test_files[1]).values)\n",
    "Data = np.array([Data[92*i+90] for i in range(12)])\n",
    "# mean_squared_error(Data[:, k]/np.max(truth[:, k]), predict(np.matmul(Data[:, 3:-1], max_cols[:-1, :-1]),sparse,T,Cs))\n",
    "errors = Data[:, k]/np.max(truth[:, k]) - predict(np.matmul(Data[:, 3:-1], max_cols[:-1, :-1]),sparse,T,Cs)\n",
    "squared_errors = [error**2 for error in errors]\n",
    "np.mean(squared_errors)"
   ]
  },
  {
   "cell_type": "code",
   "execution_count": 11,
   "metadata": {},
   "outputs": [
    {
     "data": {
      "text/plain": [
       "4.507789592741175e-06"
      ]
     },
     "execution_count": 11,
     "metadata": {},
     "output_type": "execute_result"
    }
   ],
   "source": [
    "Data = np.array(pd.read_csv(train_files[1]).values)\n",
    "Data = np.array([Data[92*i+49] for i in range(52)])\n",
    "# mean_squared_error(Data[:, k]/np.max(truth[:, k]), predict(np.matmul(Data[:, 3:-1], max_cols[:-1, :-1]),sparse,T,Cs))\n",
    "errors = Data[:, k]/np.max(truth[:, k]) - predict(np.matmul(Data[:, 3:-1], max_cols[:-1, :-1]),sparse,T,Cs)\n",
    "squared_errors = [error**2 for error in errors]\n",
    "np.mean(squared_errors)"
   ]
  },
  {
   "cell_type": "code",
   "execution_count": 12,
   "metadata": {},
   "outputs": [
    {
     "data": {
      "text/plain": [
       "4.250862255748252e-05"
      ]
     },
     "execution_count": 12,
     "metadata": {},
     "output_type": "execute_result"
    }
   ],
   "source": [
    "Data = np.array(pd.read_csv(test_files[1]).values)\n",
    "Data = np.array([Data[92*i+49] for i in range(12)])\n",
    "# mean_squared_error(Data[:, k]/np.max(truth[:, k]), predict(np.matmul(Data[:, 3:-1], max_cols[:-1, :-1]),sparse,T,Cs))\n",
    "errors = Data[:, k]/np.max(truth[:, k]) - predict(np.matmul(Data[:, 3:-1], max_cols[:-1, :-1]),sparse,T,Cs)\n",
    "squared_errors = [error**2 for error in errors]\n",
    "np.mean(squared_errors)"
   ]
  },
  {
   "cell_type": "code",
   "execution_count": 13,
   "metadata": {},
   "outputs": [
    {
     "data": {
      "text/plain": [
       "2.081312218069052e-05"
      ]
     },
     "execution_count": 13,
     "metadata": {},
     "output_type": "execute_result"
    }
   ],
   "source": [
    "Data = np.array(pd.read_csv(train_files[1]).values)\n",
    "Data = np.array([Data[92*i+38] for i in range(52)])\n",
    "# mean_squared_error(Data[:, k]/np.max(truth[:, k]), predict(np.matmul(Data[:, 3:-1], max_cols[:-1, :-1]),sparse,T,Cs))\n",
    "errors = Data[:, k]/np.max(truth[:, k]) - predict(np.matmul(Data[:, 3:-1], max_cols[:-1, :-1]),sparse,T,Cs)\n",
    "squared_errors = [error**2 for error in errors]\n",
    "np.mean(squared_errors)"
   ]
  },
  {
   "cell_type": "code",
   "execution_count": 14,
   "metadata": {},
   "outputs": [
    {
     "data": {
      "text/plain": [
       "0.0005617974326138693"
      ]
     },
     "execution_count": 14,
     "metadata": {},
     "output_type": "execute_result"
    }
   ],
   "source": [
    "Data = np.array(pd.read_csv(test_files[1]).values)\n",
    "Data = np.array([Data[92*i+38] for i in range(12)])\n",
    "# mean_squared_error(Data[:, k]/np.max(truth[:, k]), predict(np.matmul(Data[:, 3:-1], max_cols[:-1, :-1]),sparse,T,Cs))\n",
    "errors = Data[:, k]/np.max(truth[:, k]) - predict(np.matmul(Data[:, 3:-1], max_cols[:-1, :-1]),sparse,T,Cs)\n",
    "squared_errors = [error**2 for error in errors]\n",
    "np.mean(squared_errors)"
   ]
  },
  {
   "cell_type": "code",
   "execution_count": 15,
   "metadata": {},
   "outputs": [
    {
     "data": {
      "text/plain": [
       "6.996297753760536e-07"
      ]
     },
     "execution_count": 15,
     "metadata": {},
     "output_type": "execute_result"
    }
   ],
   "source": [
    "Data = np.array(pd.read_csv(train_files[1]).values)\n",
    "Data = np.array([Data[92*i+43] for i in range(52)])\n",
    "# mean_squared_error(Data[:, k]/np.max(truth[:, k]), predict(np.matmul(Data[:, 3:-1], max_cols[:-1, :-1]),sparse,T,Cs))\n",
    "errors = Data[:, k]/np.max(truth[:, k]) - predict(np.matmul(Data[:, 3:-1], max_cols[:-1, :-1]),sparse,T,Cs)\n",
    "squared_errors = [error**2 for error in errors]\n",
    "np.mean(squared_errors)"
   ]
  },
  {
   "cell_type": "code",
   "execution_count": 16,
   "metadata": {},
   "outputs": [
    {
     "data": {
      "text/plain": [
       "0.002698558290067975"
      ]
     },
     "execution_count": 16,
     "metadata": {},
     "output_type": "execute_result"
    }
   ],
   "source": [
    "Data = np.array(pd.read_csv(test_files[1]).values)\n",
    "Data = np.array([Data[92*i+43] for i in range(12)])\n",
    "# mean_squared_error(Data[:, k]/np.max(truth[:, k]), predict(np.matmul(Data[:, 3:-1], max_cols[:-1, :-1]),sparse,T,Cs))\n",
    "errors = Data[:, k]/np.max(truth[:, k]) - predict(np.matmul(Data[:, 3:-1], max_cols[:-1, :-1]),sparse,T,Cs)\n",
    "squared_errors = [error**2 for error in errors]\n",
    "np.mean(squared_errors)"
   ]
  },
  {
   "cell_type": "code",
   "execution_count": null,
   "metadata": {},
   "outputs": [],
   "source": []
  }
 ],
 "metadata": {
  "kernelspec": {
   "display_name": "Python 3",
   "language": "python",
   "name": "python3"
  },
  "language_info": {
   "codemirror_mode": {
    "name": "ipython",
    "version": 3
   },
   "file_extension": ".py",
   "mimetype": "text/x-python",
   "name": "python",
   "nbconvert_exporter": "python",
   "pygments_lexer": "ipython3",
   "version": "3.7.1"
  }
 },
 "nbformat": 4,
 "nbformat_minor": 5
}
