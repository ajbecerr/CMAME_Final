{
 "cells": [
  {
   "cell_type": "code",
   "execution_count": 1,
   "id": "d3f0c5ef",
   "metadata": {},
   "outputs": [],
   "source": [
    "import glob\n",
    "import h5py\n",
    "# import matplotlib.pyplot as plt\n",
    "from multiscale_new import *\n",
    "import numpy as np\n",
    "import pandas as pd\n",
    "from sklearn.metrics import mean_squared_error\n",
    "import sys"
   ]
  },
  {
   "cell_type": "code",
   "execution_count": 2,
   "id": "abbb307e",
   "metadata": {},
   "outputs": [
    {
     "name": "stdout",
     "output_type": "stream",
     "text": [
      "['PMMAboundary_GASP_location_train.csv', 'PMMAboundary_GASP_sample_train.csv']\n",
      "['PMMAboundary_GASP_location_test.csv', 'PMMAboundary_GASP_sample_test.csv']\n"
     ]
    }
   ],
   "source": [
    "train_files = glob.glob('PMMA*train.csv')\n",
    "print(train_files)\n",
    "test_files = glob.glob('PMMA*test.csv')\n",
    "print(test_files)"
   ]
  },
  {
   "cell_type": "code",
   "execution_count": 3,
   "id": "80e4ebd9",
   "metadata": {},
   "outputs": [],
   "source": [
    "qoi = 'rdot' # 'rdot' or 'qtot'\n",
    "j = 3 # 0, 1, 2, or 3\n",
    "k = 1 # 1, or 2\n",
    "# ss = 12"
   ]
  },
  {
   "cell_type": "code",
   "execution_count": 4,
   "id": "e27bd038",
   "metadata": {},
   "outputs": [
    {
     "name": "stdout",
     "output_type": "stream",
     "text": [
      "[[0.70590027 1.         0.98737823 ... 0.76488178 0.68129824 0.06561907]\n",
      " [0.75709935 1.         0.98737823 ... 0.76488178 0.68129824 0.06550133]\n",
      " [0.76771265 1.         0.98737823 ... 0.76488178 0.68129824 0.06420685]\n",
      " ...\n",
      " [0.22179105 0.10612479 0.98494404 ... 0.68782473 0.44799568 0.        ]\n",
      " [0.22936649 0.17687465 0.98494404 ... 0.68782473 0.44799568 0.01645269]\n",
      " [0.23694193 0.24762451 0.98494404 ... 0.68782473 0.44799568 0.04733215]]\n",
      "4784\n",
      "['Cs__0.005_qtot_location.npy', 'Cs__0.005_qtot_sample.npy', 'Cs__0.005_rdot_location.npy', 'Cs__0.005_rdot_sample.npy']\n",
      "['sparse__0.005_qtot_location.npy', 'sparse__0.005_qtot_sample.npy', 'sparse__0.005_rdot_location.npy', 'sparse__0.005_rdot_sample.npy']\n",
      "['T__0.005_qtot_location.npy', 'T__0.005_qtot_sample.npy', 'T__0.005_rdot_location.npy', 'T__0.005_rdot_sample.npy']\n"
     ]
    },
    {
     "data": {
      "text/plain": [
       "9.276842070403885e-06"
      ]
     },
     "execution_count": 4,
     "metadata": {},
     "output_type": "execute_result"
    }
   ],
   "source": [
    "Data = pd.read_csv(train_files[j%2])\n",
    "# Data = Data.dropna()\n",
    "Data = Data.to_numpy()\n",
    "\n",
    "if qoi == 'rdot':\n",
    "    Data = np.hstack((Data[:, 3:-1], Data[:, 1].reshape(-1, 1))).astype(float)\n",
    "else:\n",
    "    Data = np.hstack((Data[:, 3:-1], Data[:, 2].reshape(-1, 1))).astype(float)\n",
    "    \n",
    "max_cols = np.diag([1/max(Data[:, i]) for i in range(len(Data[0]))])\n",
    "Data = np.matmul(Data, max_cols)\n",
    "print(Data)\n",
    "print(len(Data))\n",
    "\n",
    "Cs = glob.glob('Cs*.npy')\n",
    "print(Cs)\n",
    "sparse = glob.glob('sparse*.npy')\n",
    "print(sparse)\n",
    "T = glob.glob('T*.npy')\n",
    "print(T)\n",
    "\n",
    "Cs = np.load(Cs[j])\n",
    "sparse = np.load(sparse[j])\n",
    "T = np.load(T[j])\n",
    "\n",
    "# predict(Data[:, :-1],sparse,T,Cs)\n",
    "truth = pd.read_csv(train_files[j%2]).to_numpy()\n",
    "# truth = truth[:, 2]/np.max(truth[:, 2])\n",
    "mean_squared_error(truth[:, k]/np.max(truth[:, k]), predict(Data[:, :-1],sparse,T,Cs))"
   ]
  },
  {
   "cell_type": "code",
   "execution_count": 5,
   "id": "1456c5f4",
   "metadata": {},
   "outputs": [
    {
     "data": {
      "text/plain": [
       "0.0008260965210005038"
      ]
     },
     "execution_count": 5,
     "metadata": {},
     "output_type": "execute_result"
    }
   ],
   "source": [
    "test = pd.read_csv(test_files[j%2]).to_numpy()\n",
    "# test = test[:, 2]/np.max(truth[:, 2])\n",
    "mean_squared_error(test[:, k]/np.max(truth[:, k]), predict(np.matmul(test[:, 3:-1], max_cols[:-1, :-1]),sparse,T,Cs))"
   ]
  },
  {
   "cell_type": "code",
   "execution_count": 6,
   "id": "6110f053",
   "metadata": {},
   "outputs": [
    {
     "data": {
      "text/plain": [
       "4.446932236832698e-06"
      ]
     },
     "execution_count": 6,
     "metadata": {},
     "output_type": "execute_result"
    }
   ],
   "source": [
    "Data = pd.read_csv(train_files[j%2]).to_numpy()\n",
    "Data = np.array([Data[92*i+80] for i in range(52)])\n",
    "mean_squared_error(Data[:, k]/np.max(truth[:, k]), predict(np.matmul(Data[:, 3:-1], max_cols[:-1, :-1]),sparse,T,Cs))"
   ]
  },
  {
   "cell_type": "code",
   "execution_count": 7,
   "id": "81416281",
   "metadata": {},
   "outputs": [
    {
     "data": {
      "text/plain": [
       "4.592904244531227e-05"
      ]
     },
     "execution_count": 7,
     "metadata": {},
     "output_type": "execute_result"
    }
   ],
   "source": [
    "Data = pd.read_csv(test_files[j%2]).to_numpy()\n",
    "Data = np.array([Data[92*i+80] for i in range(12)])\n",
    "mean_squared_error(Data[:, k]/np.max(truth[:, k]), predict(np.matmul(Data[:, 3:-1], max_cols[:-1, :-1]),sparse,T,Cs))"
   ]
  },
  {
   "cell_type": "code",
   "execution_count": 8,
   "id": "3d0ccad7",
   "metadata": {},
   "outputs": [
    {
     "data": {
      "text/plain": [
       "4784"
      ]
     },
     "execution_count": 8,
     "metadata": {},
     "output_type": "execute_result"
    }
   ],
   "source": [
    "52*92"
   ]
  },
  {
   "cell_type": "code",
   "execution_count": 9,
   "id": "d4b1debe",
   "metadata": {},
   "outputs": [
    {
     "data": {
      "text/plain": [
       "77602.84151054415"
      ]
     },
     "execution_count": 9,
     "metadata": {},
     "output_type": "execute_result"
    }
   ],
   "source": [
    "(max_cols[-1, -1]**2)"
   ]
  },
  {
   "cell_type": "code",
   "execution_count": 10,
   "id": "7d851093",
   "metadata": {},
   "outputs": [
    {
     "data": {
      "text/plain": [
       "278.572865711189"
      ]
     },
     "execution_count": 10,
     "metadata": {},
     "output_type": "execute_result"
    }
   ],
   "source": [
    "max_cols[-1, -1]"
   ]
  },
  {
   "cell_type": "code",
   "execution_count": 11,
   "id": "ef22fe4f",
   "metadata": {},
   "outputs": [
    {
     "data": {
      "text/plain": [
       "0.0035897250704838997"
      ]
     },
     "execution_count": 11,
     "metadata": {},
     "output_type": "execute_result"
    }
   ],
   "source": [
    "1/278.572865711189"
   ]
  },
  {
   "cell_type": "code",
   "execution_count": 12,
   "id": "1cd27107",
   "metadata": {},
   "outputs": [
    {
     "data": {
      "text/plain": [
       "0.34509457758305745"
      ]
     },
     "execution_count": 12,
     "metadata": {},
     "output_type": "execute_result"
    }
   ],
   "source": [
    "77602.84151054415*4.446932236832698e-06"
   ]
  },
  {
   "cell_type": "code",
   "execution_count": null,
   "id": "872fda9c",
   "metadata": {},
   "outputs": [],
   "source": []
  }
 ],
 "metadata": {
  "kernelspec": {
   "display_name": "Python 3",
   "language": "python",
   "name": "python3"
  },
  "language_info": {
   "codemirror_mode": {
    "name": "ipython",
    "version": 3
   },
   "file_extension": ".py",
   "mimetype": "text/x-python",
   "name": "python",
   "nbconvert_exporter": "python",
   "pygments_lexer": "ipython3",
   "version": "3.8.8"
  }
 },
 "nbformat": 4,
 "nbformat_minor": 5
}
